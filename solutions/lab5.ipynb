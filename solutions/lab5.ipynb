{
 "cells": [
  {
   "cell_type": "code",
   "execution_count": 1,
   "metadata": {
    "collapsed": true
   },
   "outputs": [],
   "source": [
    "from sympy.interactive.printing import init_printing\n",
    "from sympy import *\n",
    "import numpy as np \n",
    "init_printing(use_unicode=True)"
   ]
  },
  {
   "cell_type": "markdown",
   "metadata": {},
   "source": [
    "# Fourier Series\n",
    "## Introduction \n",
    "For a periodic function $f$ of period $P$, the Fourier series expansion enables to write the function with the following form:\n",
    "$$\n",
    "f(t) = \\frac{a_{0}}{2} + \\sum^{\\infty}_{n=1} a_{n} \\cos (2n\\pi \\frac{t}{P}) + \\sum^{\\infty}_{n=1} b_{n} \\sin (2n\\pi \\frac{t}{P})\n",
    "$$\n",
    "\n",
    "where the constant coefficients $a_n$ and $b_n$ are defined according to: \n",
    "$$\n",
    "a_n = \\frac{2}{P}\\int^{\\frac{P}{2}}_{-\\frac{P}{2}}f(t) \\cos(2n\\pi\\frac{t}{P})dt\n",
    "$$\n",
    ", \n",
    "$$\n",
    "b_n = \\frac{2}{P}\\int^{\\frac{P}{2}}_{-\\frac{P}{2}}f(t) \\sin(2n\\pi\\frac{t}{P})dt\n",
    "$$\n",
    "and the first term of expansion is defined by $a_{0}$ is twice the average of $f(t)$ over the domain $P$:\n",
    "$$\n",
    "\\frac{a_{0}}{2} = \\frac{1}{P}\\int^{\\frac{P}{2}}_{-\\frac{P}{2}}f(t)dt\n",
    "$$\n",
    "\n",
    "We can notice that:\n",
    "* if $f$ is an even function, which means $f(-t) = f(t)$, then $\\forall n \\in   \\rm I\\!N^{+}, b_{n} = 0 $\n",
    "* if $f$ is an odd function, which means $f(-t) = -f(t)$, then $\\forall n \\in   \\rm I\\!N^{+}, a_{n} = 0 $"
   ]
  },
  {
   "cell_type": "markdown",
   "metadata": {},
   "source": [
    "## Exercises\n",
    "### 1. Fourier Series expansion of basic functions \n",
    "For both functions of $f(t)=t$ and $f(t) = \\vert \\cos(\\pi\\frac{t}{P})\\vert$ \n",
    "* Q.1 - Define the function, with the assumption that is only defined on $P$.\n",
    "* Q.2 - Plot the function over $[\\frac{-P}{2}, \\frac{P}{2}]$ with $P = 1$\n",
    "* Q.3 - compute manually $a_n$ and $b_n$ and check if the function is even or odd \n",
    "* Q.4 - Give the first seven elements of $a_n$ or $b_n$ depending if the function is odd or even "
   ]
  },
  {
   "cell_type": "code",
   "execution_count": 2,
   "metadata": {},
   "outputs": [
    {
     "data": {
      "image/png": "[encoded data removed]",
      "text/plain": [
       "<matplotlib.figure.Figure at 0x7ff0f0765748>"
      ]
     },
     "metadata": {},
     "output_type": "display_data"
    },
    {
     "data": {
      "text/plain": [
       "<sympy.plotting.plot.Plot at 0x7ff0f0754748>"
      ]
     },
     "execution_count": 2,
     "metadata": {},
     "output_type": "execute_result"
    }
   ],
   "source": [
    "f, t, P = symbols('f, t, P', positive=True)\n",
    "def f(t):\n",
    "    return t\n",
    "\n",
    "plot(f(t), (t, -1/2, 1/2) )"
   ]
  },
  {
   "cell_type": "code",
   "execution_count": 3,
   "metadata": {},
   "outputs": [
    {
     "data": {
      "image/png": "[encoded data removed]",
      "text/latex": [
       "$$\\left ( \\frac{P^{2}}{2 \\pi^{2} n^{2}} \\left(- \\cos{\\left (\\pi n \\right )} + \\frac{2}{\\pi n} \\sin{\\left (\\pi n \\right )}\\right), \\quad 0\\right )$$"
      ],
      "text/plain": [
       "⎛ 2 ⎛            2⋅sin(π⋅n)⎞   ⎞\n",
       "⎜P ⋅⎜-cos(π⋅n) + ──────────⎟   ⎟\n",
       "⎜   ⎝               π⋅n    ⎠   ⎟\n",
       "⎜───────────────────────────, 0⎟\n",
       "⎜             2  2             ⎟\n",
       "⎝          2⋅π ⋅n              ⎠"
      ]
     },
     "execution_count": 3,
     "metadata": {},
     "output_type": "execute_result"
    }
   ],
   "source": [
    "n = symbols('n', positive=True)\n",
    "a_n, b_n = symbols('a_n, b_n')\n",
    "a_n = (2/P)*integrate(f(t)* cos(2*n*pi*t/P), t, (t, -P/2, P/2))\n",
    "b_n = (2/P)*integrate(f(t)* sin(2*n*pi*t/P), t, (t, -P/2, P/2))\n",
    "a_n.trigsimp(), b_n.trigsimp()# notice b_n is zero and the function is even "
   ]
  },
  {
   "cell_type": "code",
   "execution_count": 4,
   "metadata": {},
   "outputs": [
    {
     "data": {
      "image/png": "[encoded data removed]",
      "text/latex": [
       "$$\\left [ \\frac{P^{2}}{2 \\pi^{2}}, \\quad - \\frac{P^{2}}{8 \\pi^{2}}, \\quad \\frac{P^{2}}{18 \\pi^{2}}, \\quad - \\frac{P^{2}}{32 \\pi^{2}}, \\quad \\frac{P^{2}}{50 \\pi^{2}}, \\quad - \\frac{P^{2}}{72 \\pi^{2}}\\right ]$$"
      ],
      "text/plain": [
       "⎡  2     2      2      2      2      2 ⎤\n",
       "⎢ P    -P      P     -P      P     -P  ⎥\n",
       "⎢────, ────, ─────, ─────, ─────, ─────⎥\n",
       "⎢   2     2      2      2      2      2⎥\n",
       "⎣2⋅π   8⋅π   18⋅π   32⋅π   50⋅π   72⋅π ⎦"
      ]
     },
     "execution_count": 4,
     "metadata": {},
     "output_type": "execute_result"
    }
   ],
   "source": [
    "[a_n.subs({n:i}) for i in range (1, 7)]"
   ]
  },
  {
   "cell_type": "code",
   "execution_count": 5,
   "metadata": {
    "collapsed": true
   },
   "outputs": [],
   "source": [
    "\n",
    "def f(t, P):\n",
    "    return abs(cos(pi*t/P)) "
   ]
  },
  {
   "cell_type": "code",
   "execution_count": 6,
   "metadata": {},
   "outputs": [
    {
     "data": {
      "image/png": "[encoded data removed]",
      "text/plain": [
       "<matplotlib.figure.Figure at 0x7ff0e3baa2b0>"
      ]
     },
     "metadata": {},
     "output_type": "display_data"
    },
    {
     "data": {
      "text/plain": [
       "<sympy.plotting.plot.Plot at 0x7ff0e3baa6d8>"
      ]
     },
     "execution_count": 6,
     "metadata": {},
     "output_type": "execute_result"
    }
   ],
   "source": [
    "plot(f(t,1), (t, -2, 2))"
   ]
  },
  {
   "cell_type": "code",
   "execution_count": 7,
   "metadata": {},
   "outputs": [
    {
     "data": {
      "image/png": "[encoded data removed]",
      "text/latex": [
       "$$\\left ( \\frac{2}{P} \\int_{- \\frac{P}{2}}^{\\frac{P}{2}}\\int \\cos{\\left (\\frac{2 \\pi}{P} n t \\right )} \\left|{\\cos{\\left (\\pi t \\right )}}\\right|\\, dt\\, dt, \\quad \\frac{2}{P} \\int_{- \\frac{P}{2}}^{\\frac{P}{2}}\\int \\sin{\\left (\\frac{2 \\pi}{P} n t \\right )} \\left|{\\cos{\\left (\\pi t \\right )}}\\right|\\, dt\\, dt\\right )$$"
      ],
      "text/plain": [
       "⎛   P                                      P                                 ⎞\n",
       "⎜   ─                                      ─                                 ⎟\n",
       "⎜   2                                      2                                 ⎟\n",
       "⎜   ⌠  ⌠                                   ⌠  ⌠                              ⎟\n",
       "⎜   ⎮  ⎮    ⎛2⋅π⋅n⋅t⎞                      ⎮  ⎮    ⎛2⋅π⋅n⋅t⎞                 ⎟\n",
       "⎜2⋅ ⎮  ⎮ cos⎜───────⎟⋅│cos(π⋅t)│ dt dt  2⋅ ⎮  ⎮ sin⎜───────⎟⋅│cos(π⋅t)│ dt dt⎟\n",
       "⎜   ⎮  ⎮    ⎝   P   ⎠                      ⎮  ⎮    ⎝   P   ⎠                 ⎟\n",
       "⎜   ⌡  ⌡                                   ⌡  ⌡                              ⎟\n",
       "⎜  -P                                     -P                                 ⎟\n",
       "⎜  ───                                    ───                                ⎟\n",
       "⎜   2                                      2                                 ⎟\n",
       "⎜─────────────────────────────────────, ─────────────────────────────────────⎟\n",
       "⎝                  P                                      P                  ⎠"
      ]
     },
     "execution_count": 7,
     "metadata": {},
     "output_type": "execute_result"
    }
   ],
   "source": [
    "a_n = (2/P)*integrate(f(t,1)* cos(2*n*pi*t/P), t, (t, -P/2, P/2))\n",
    "b_n = (2/P)*integrate(f(t,1)* sin(2*n*pi*t/P), t, (t, -P/2, P/2))\n",
    "a_n.trigsimp(), b_n.trigsimp()"
   ]
  },
  {
   "cell_type": "code",
   "execution_count": 8,
   "metadata": {},
   "outputs": [
    {
     "data": {
      "image/png": "[encoded data removed]",
      "text/latex": [
       "$$\\left ( 0, \\quad 2 \\left(\\begin{cases} \\frac{1}{4 \\pi} & \\text{for}\\: n = \\frac{1}{2} \\\\\\frac{8 n \\cos{\\left (\\pi n \\right )}}{\\left(4 \\pi n^{2} - \\pi\\right)^{2}} & \\text{otherwise} \\end{cases}\\right)\\right )$$"
      ],
      "text/plain": [
       "⎛     ⎛⎧      1                   ⎞⎞\n",
       "⎜     ⎜⎪     ───       for n = 1/2⎟⎟\n",
       "⎜     ⎜⎪     4⋅π                  ⎟⎟\n",
       "⎜     ⎜⎪                          ⎟⎟\n",
       "⎜0, 2⋅⎜⎨ 8⋅n⋅cos(π⋅n)             ⎟⎟\n",
       "⎜     ⎜⎪─────────────   otherwise ⎟⎟\n",
       "⎜     ⎜⎪            2             ⎟⎟\n",
       "⎜     ⎜⎪⎛     2    ⎞              ⎟⎟\n",
       "⎝     ⎝⎩⎝4⋅π⋅n  - π⎠              ⎠⎠"
      ]
     },
     "execution_count": 8,
     "metadata": {},
     "output_type": "execute_result"
    }
   ],
   "source": [
    "a_n = (2/P)*integrate(cos(pi*t/P)* cos(2*n*pi*t/P), t, (t, -P/2, P/2))\n",
    "b_n = (2/P)*integrate(cos(pi*t/P)* sin(2*n*pi*t/P), t, (t, -P/2, P/2))\n",
    "a_n.subs({P:1}).trigsimp(), b_n.subs({P:1}).trigsimp() "
   ]
  },
  {
   "cell_type": "markdown",
   "metadata": {},
   "source": [
    "## Fourier Series functions of sympy"
   ]
  },
  {
   "cell_type": "code",
   "execution_count": 23,
   "metadata": {
    "collapsed": true
   },
   "outputs": [],
   "source": [
    "s= fourier_series(f(t,1), (t, -pi, pi))"
   ]
  },
  {
   "cell_type": "code",
   "execution_count": 37,
   "metadata": {},
   "outputs": [
    {
     "data": {
      "image/png": "[encoded data removed]",
      "text/latex": [
       "$$\\frac{1}{\\pi} \\cos{\\left (t \\right )} \\int_{- \\pi}^{\\pi} \\cos{\\left (t \\right )} \\left|{\\cos{\\left (\\pi t \\right )}}\\right|\\, dt + \\frac{1}{\\pi} \\cos{\\left (2 t \\right )} \\int_{- \\pi}^{\\pi} \\cos{\\left (2 t \\right )} \\left|{\\cos{\\left (\\pi t \\right )}}\\right|\\, dt + \\frac{1}{2 \\pi} \\int_{- \\pi}^{\\pi} \\left|{\\cos{\\left (\\pi t \\right )}}\\right|\\, dt$$"
      ],
      "text/plain": [
       "       π                                  π                           π       \n",
       "       ⌠                                  ⌠                           ⌠       \n",
       "cos(t)⋅⎮  cos(t)⋅│cos(π⋅t)│ dt   cos(2⋅t)⋅⎮  cos(2⋅t)⋅│cos(π⋅t)│ dt   ⎮  │cos(\n",
       "       ⌡                                  ⌡                           ⌡       \n",
       "       -π                                 -π                          -π      \n",
       "────────────────────────────── + ────────────────────────────────── + ────────\n",
       "              π                                  π                          2⋅\n",
       "\n",
       "        \n",
       "        \n",
       "π⋅t)│ dt\n",
       "        \n",
       "        \n",
       "────────\n",
       "π       "
      ]
     },
     "execution_count": 37,
     "metadata": {},
     "output_type": "execute_result"
    }
   ],
   "source": [
    "s.truncate(3)"
   ]
  },
  {
   "cell_type": "code",
   "execution_count": 39,
   "metadata": {
    "collapsed": true
   },
   "outputs": [],
   "source": [
    "from sympy.series import fourier"
   ]
  },
  {
   "cell_type": "code",
   "execution_count": 41,
   "metadata": {
    "collapsed": true
   },
   "outputs": [],
   "source": [
    "s2 = fourier.fourier_series(f(t,1), (-pi, pi))\n"
   ]
  },
  {
   "cell_type": "code",
   "execution_count": 43,
   "metadata": {},
   "outputs": [
    {
     "data": {
      "text/latex": [
       "$$\\left\\[\\frac{1}{\\pi} \\cos{\\left (t \\right )} \\int_{- \\pi}^{\\pi} \\cos{\\left (t \\right )} \\left|{\\cos{\\left (\\pi t \\right )}}\\right|\\, dt, \\frac{1}{\\pi} \\cos{\\left (2 t \\right )} \\int_{- \\pi}^{\\pi} \\cos{\\left (2 t \\right )} \\left|{\\cos{\\left (\\pi t \\right )}}\\right|\\, dt, \\frac{1}{\\pi} \\cos{\\left (3 t \\right )} \\int_{- \\pi}^{\\pi} \\cos{\\left (3 t \\right )} \\left|{\\cos{\\left (\\pi t \\right )}}\\right|\\, dt, \\frac{1}{\\pi} \\cos{\\left (4 t \\right )} \\int_{- \\pi}^{\\pi} \\cos{\\left (4 t \\right )} \\left|{\\cos{\\left (\\pi t \\right )}}\\right|\\, dt, \\ldots\\right\\]$$"
      ],
      "text/plain": [
       "⎡       π                                 π                                   \n",
       "⎢       ⌠                                 ⌠                                   \n",
       "⎢cos(t)⋅⎮  cos(t)⋅│cos(π⋅t)│ dt  cos(2⋅t)⋅⎮  cos(2⋅t)⋅│cos(π⋅t)│ dt  cos(3⋅t)⋅\n",
       "⎢       ⌡                                 ⌡                                   \n",
       "⎢       -π                                -π                                  \n",
       "⎢──────────────────────────────, ──────────────────────────────────, ─────────\n",
       "⎣              π                                 π                            \n",
       "\n",
       "π                                   π                           ⎤\n",
       "⌠                                   ⌠                           ⎥\n",
       "⎮  cos(3⋅t)⋅│cos(π⋅t)│ dt  cos(4⋅t)⋅⎮  cos(4⋅t)⋅│cos(π⋅t)│ dt   ⎥\n",
       "⌡                                   ⌡                           ⎥\n",
       "-π                                  -π                          ⎥\n",
       "─────────────────────────, ──────────────────────────────────, …⎥\n",
       "       π                                   π                    ⎦"
      ]
     },
     "execution_count": 43,
     "metadata": {},
     "output_type": "execute_result"
    }
   ],
   "source": [
    "s2.an"
   ]
  },
  {
   "cell_type": "code",
   "execution_count": 47,
   "metadata": {},
   "outputs": [
    {
     "name": "stdout",
     "output_type": "stream",
     "text": [
      "No\n"
     ]
    }
   ],
   "source": [
    "if s2.is_even:\n",
    "    print ('yes')\n",
    "else:\n",
    "    print ('No')"
   ]
  },
  {
   "cell_type": "code",
   "execution_count": 52,
   "metadata": {},
   "outputs": [
    {
     "data": {
      "image/png": "[encoded data removed]",
      "text/latex": [
       "$$\\left ( \\frac{1}{\\pi} \\cos{\\left (n t \\right )} \\int_{- \\pi}^{\\pi} \\cos{\\left (n t \\right )} \\left|{\\cos{\\left (\\pi t \\right )}}\\right|\\, dt, \\quad \\left ( n, \\quad 1, \\quad \\infty\\right )\\right )$$"
      ],
      "text/plain": [
       "⎛         π                                   ⎞\n",
       "⎜         ⌠                                   ⎟\n",
       "⎜cos(n⋅t)⋅⎮  cos(n⋅t)⋅│cos(π⋅t)│ dt           ⎟\n",
       "⎜         ⌡                                   ⎟\n",
       "⎜         -π                                  ⎟\n",
       "⎜──────────────────────────────────, (n, 1, ∞)⎟\n",
       "⎝                π                            ⎠"
      ]
     },
     "execution_count": 52,
     "metadata": {},
     "output_type": "execute_result"
    }
   ],
   "source": [
    "s2.an.args"
   ]
  },
  {
   "cell_type": "code",
   "execution_count": 53,
   "metadata": {
    "collapsed": true
   },
   "outputs": [],
   "source": [
    "fourier.FourierSeries??"
   ]
  },
  {
   "cell_type": "code",
   "execution_count": null,
   "metadata": {
    "collapsed": true
   },
   "outputs": [],
   "source": []
  }
 ],
 "metadata": {
  "kernelspec": {
   "display_name": "Python 3",
   "language": "python",
   "name": "python3"
  },
  "language_info": {
   "codemirror_mode": {
    "name": "ipython",
    "version": 3
   },
   "file_extension": ".py",
   "mimetype": "text/x-python",
   "name": "python",
   "nbconvert_exporter": "python",
   "pygments_lexer": "ipython3",
   "version": "3.6.2"
  }
 },
 "nbformat": 4,
 "nbformat_minor": 2
}
